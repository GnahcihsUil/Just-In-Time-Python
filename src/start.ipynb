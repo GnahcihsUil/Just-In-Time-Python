{
 "cells": [
  {
   "cell_type": "code",
   "execution_count": 1,
   "metadata": {},
   "outputs": [],
   "source": [
    "import numpy as np\n",
    "from numba import jit"
   ]
  },
  {
   "cell_type": "code",
   "execution_count": 13,
   "metadata": {},
   "outputs": [
    {
     "name": "stdout",
     "output_type": "stream",
     "text": [
      "1min 37s ± 463 ms per loop (mean ± std. dev. of 3 runs, 3 loops each)\n"
     ]
    }
   ],
   "source": [
    "def pythagorean_triples(max_n=100):\n",
    "    \"\"\"Find Pythagorean triples with a <= max_n.\"\"\"\n",
    "    triples = []\n",
    "    for a in range(1, max_n + 1):\n",
    "        for b in range(a, max_n + 1):\n",
    "            for c in range(b, max_n + 1):\n",
    "                if a ** 2 + b ** 2 == c ** 2:\n",
    "                    triples.append((a, b, c))\n",
    "    return triples\n",
    "  \n",
    "\n",
    "%timeit -r3 -n3 pythagorean_triples(1000)\n"
   ]
  },
  {
   "cell_type": "code",
   "execution_count": 12,
   "metadata": {},
   "outputs": [
    {
     "name": "stdout",
     "output_type": "stream",
     "text": [
      "117 ms ± 13.9 ms per loop (mean ± std. dev. of 3 runs, 3 loops each)\n"
     ]
    }
   ],
   "source": [
    "@jit\n",
    "def numba_pythagorean_triples(max_n=100):\n",
    "    \"\"\"Find Pythagorean triples with a <= max_n.\"\"\"\n",
    "    triples = []\n",
    "    for a in range(1, max_n + 1):\n",
    "        for b in range(a, max_n + 1):\n",
    "            for c in range(b, max_n + 1):\n",
    "                if a ** 2 + b ** 2 == c ** 2:\n",
    "                    triples.append((a, b, c))\n",
    "    return triples\n",
    "\n",
    "\n",
    "%timeit -r3 -n3 numba_pythagorean_triples(1000)\n"
   ]
  },
  {
   "cell_type": "code",
   "execution_count": 11,
   "metadata": {},
   "outputs": [
    {
     "name": "stdout",
     "output_type": "stream",
     "text": [
      "118 ms ± 13.9 ms per loop (mean ± std. dev. of 3 runs, 3 loops each)\n"
     ]
    }
   ],
   "source": [
    "@jit(nopython=True)\n",
    "def numba_fast_pythagorean_triples(max_n=100):\n",
    "    \"\"\"Find Pythagorean triples with a <= max_n.\"\"\"\n",
    "    triples = []\n",
    "    for a in range(1, max_n + 1):\n",
    "        for b in range(a, max_n + 1):\n",
    "            for c in range(b, max_n + 1):\n",
    "                if a ** 2 + b ** 2 == c ** 2:\n",
    "                    triples.append((a, b, c))\n",
    "    return triples\n",
    "\n",
    "%timeit -r3 -n3 numba_fast_pythagorean_triples(1000)"
   ]
  },
  {
   "cell_type": "code",
   "execution_count": null,
   "metadata": {},
   "outputs": [],
   "source": []
  }
 ],
 "metadata": {
  "kernelspec": {
   "display_name": "Python 3.8.13 ('cs263')",
   "language": "python",
   "name": "python3"
  },
  "language_info": {
   "codemirror_mode": {
    "name": "ipython",
    "version": 3
   },
   "file_extension": ".py",
   "mimetype": "text/x-python",
   "name": "python",
   "nbconvert_exporter": "python",
   "pygments_lexer": "ipython3",
   "version": "3.8.13"
  },
  "orig_nbformat": 4,
  "vscode": {
   "interpreter": {
    "hash": "1cf1c19e7e077e42661b26c12f079b437e1f2dd32809de02d642d8ca1fafdcbc"
   }
  }
 },
 "nbformat": 4,
 "nbformat_minor": 2
}
